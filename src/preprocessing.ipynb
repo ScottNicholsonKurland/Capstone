{
 "cells": [
  {
   "cell_type": "code",
   "execution_count": null,
   "metadata": {},
   "outputs": [],
   "source": [
    "#!/usr/bin/env python\n",
    "\n",
    "\"\"\"\n",
    "Prepare datasets for training and testing\n",
    "\"\"\"\n",
    "\n",
    "from IPython import embed\n",
    "import pandas as pd\n",
    "import numpy as np\n",
    "from sklearn.model_selection import train_test_split\n",
    "from sklearn.preprocessing import LabelEncoder\n",
    "\n",
    "# Subset of the columns to use\n",
    "cols = ['PermitType', 'PermitTypeDesc', 'PermitNum', 'PermitClass', 'WorkClass',\n",
    "       'Condominium', 'ProjectName', 'Description', 'PropertyLegalDescription',\n",
    "       'AppliedDate', 'IssuedDate', 'StatusCurrent', 'ExpiresDate',\n",
    "       'CompletedDate', 'TotalExistingBldgSQFT', 'RemodelRepairSQFT',\n",
    "       'TotalNewAddSQFT', 'TotalValuationRemodel', 'TotalJobValuation',\n",
    "       'NumberOfFloors', 'HousingUnits', 'BuildingValuation',\n",
    "       'BuildingValuationRemodel', 'ElectricalValuation',\n",
    "       'ElectricalValuationRemodel', 'MechanicalValuation',\n",
    "       'MechanicalValuationRemodel', 'PlumbingValuation',\n",
    "       'PlumbingValuationRemodel', 'MedGasValuation', 'MedGasValuationRemodel',\n",
    "       'OriginalAddress1', 'OriginalCity', 'OriginalZip', 'Link', 'ProjectID',\n",
    "       'Latitude', 'Longitude']\n",
    "categorical_cols = ['TotalAddSQFT', 'OriginalZip']\n",
    "\n",
    "\n",
    "def _get_df_from_file(file_name, n):\n",
    "    df = pd.read_csv(file_name, usecols=cols)\n",
    "    df = df.dropna(subset=cols)\n",
    "    \n",
    "    # Create binary labels from the AddedSF column\n",
    "    labels = df.TotalNewAddSQAT > 0\n",
    "\n",
    "    # xgboost wants numbers for categorical variables\n",
    "    for col in categorical_cols:\n",
    "        lenc = LabelEncoder().fit(pd.concat([df[col], df[col]]))\n",
    "        dfa[col] = lenc.transform(df2006[col])\n",
    "\n",
    "    # Get test/validation sets from data\n",
    "    X_val, X_test, y_val, y_test = train_test_split(\n",
    "        df, y, test_size=0.2, random_state=42)\n",
    "\n",
    "    data = dict(\n",
    "        feature_names=df.columns,\n",
    "        X_train=df, y_train=y)\n",
    "\n",
    "    for k, v in data.items():\n",
    "        print(k, v.shape)\n",
    "\n",
    "    np.savez('zipdata.npz', **data)"
   ]
  }
 ],
 "metadata": {
  "kernelspec": {
   "display_name": "Python 3",
   "language": "python",
   "name": "python3"
  },
  "language_info": {
   "codemirror_mode": {
    "name": "ipython",
    "version": 3
   },
   "file_extension": ".py",
   "mimetype": "text/x-python",
   "name": "python",
   "nbconvert_exporter": "python",
   "pygments_lexer": "ipython3",
   "version": "3.6.4"
  }
 },
 "nbformat": 4,
 "nbformat_minor": 2
}
